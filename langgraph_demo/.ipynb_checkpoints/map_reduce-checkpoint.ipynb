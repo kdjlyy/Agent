{
 "cells": [
  {
   "cell_type": "code",
   "execution_count": 1,
   "metadata": {
    "ExecuteTime": {
     "end_time": "2025-04-24T17:25:59.007662Z",
     "start_time": "2025-04-24T17:25:58.495328Z"
    }
   },
   "outputs": [],
   "source": [
    "import operator\n",
    "import os\n",
    "import sys\n",
    "\n",
    "current_dir = os.getcwd()\n",
    "parent_dir = os.path.abspath(os.path.join(current_dir, '..'))\n",
    "sys.path.append(parent_dir)\n",
    "from utils.env_util import *\n",
    "from langgraph_utils.common_util import gen_mermaid\n",
    "from typing_extensions import TypedDict\n",
    "from langgraph.graph import StateGraph, START, END\n",
    "from langchain_openai import ChatOpenAI\n",
    "from typing import Annotated\n",
    "from langgraph.types import Send\n",
    "from pydantic import BaseModel, Field"
   ]
  },
  {
   "cell_type": "code",
   "execution_count": 2,
   "metadata": {
    "ExecuteTime": {
     "end_time": "2025-04-24T17:26:26.233395Z",
     "start_time": "2025-04-24T17:26:26.104204Z"
    }
   },
   "outputs": [
    {
     "name": "stdout",
     "output_type": "stream",
     "text": [
      "🙈 OPENAI_API_KEY: sk-hybehtt*******************************lpkkvcvojw\n",
      "👀 DEFAULT_MODEL: Qwen/QwQ-32B\n",
      "👀 OPENAI_BASE_URL: https://api.siliconflow.cn/v1\n",
      "✏️ 已生成 mermaid 文件 /Users/yuki/codes/pythonProject/Agent/langgraph_demo/resources/map_reduce.mmd\n"
     ]
    }
   ],
   "source": [
    "# 定义 Prompt\n",
    "# subjects_prompt = \"\"\"随机生成4个与 {topic} 相关的关键字\"\"\"\n",
    "# joke_prompt = \"\"\"生成一条关于 {subject} 的笑话\"\"\"\n",
    "# best_joke_prompt = \"\"\"下面是一些关于 {topic} 的笑话，选择最好的一个，返回其ID（ID 从0开始）。\n",
    "\n",
    "# {jokes}\"\"\"\n",
    "\n",
    "subjects_prompt = \"\"\"Generate a comma separated list of between 2 and 5 examples related to: {topic}.\"\"\"\n",
    "joke_prompt = \"\"\"Generate a joke about {subject}\"\"\"\n",
    "best_joke_prompt = \"\"\"Below are a bunch of jokes about {topic}. Select the best one! Return the ID of the best one.\n",
    "\n",
    "{jokes}\"\"\"\n",
    "\n",
    "\n",
    "class Subjects(BaseModel):\n",
    "    subjects: list[str]\n",
    "\n",
    "class Joke(BaseModel):\n",
    "    joke: str\n",
    "\n",
    "class BestJoke(BaseModel):\n",
    "    id: int = Field(description=\"Index of the best joke, starting with 0\", ge=0)\n",
    "\n",
    "model = ChatOpenAI(\n",
    "    openai_api_key=get_openai_api_key(),\n",
    "    model_name='deepseek-ai/DeepSeek-R1-Distill-Qwen-7B',\n",
    "    base_url=get_openai_base_url(),\n",
    ")\n",
    "\n",
    "class OverallState(TypedDict):\n",
    "    topic: str\n",
    "    subjects: list\n",
    "    jokes: Annotated[list, operator.add]\n",
    "    best_selected_joke: str\n",
    "\n",
    "\n",
    "# 笑话的 subject\n",
    "class JokeState(TypedDict):\n",
    "    subject: str\n",
    "\n",
    "# 通过一个 topic 生成多个 subject\n",
    "def generate_topics(state: OverallState):\n",
    "    prompt = subjects_prompt.format(topic=state[\"topic\"])\n",
    "    response = model.with_structured_output(Subjects).invoke(prompt)\n",
    "    print(f\"⚙️生成主题：{response.subjects}\")\n",
    "    return {\"subjects\": response.subjects}\n",
    "\n",
    "\n",
    "# 生成一条笑话\n",
    "def generate_joke(state: JokeState):\n",
    "    subject = state[\"subject\"]\n",
    "    prompt = joke_prompt.format(subject=subject)\n",
    "    response = model.with_structured_output(Joke).invoke(prompt)\n",
    "    print(f\"⚙️生成[{subject}]笑话：{response.joke}\")\n",
    "    return {\"jokes\": [response.joke]}\n",
    "\n",
    "\n",
    "def continue_to_jokes(state: OverallState):\n",
    "    \"\"\"\n",
    "        返回一个 `Send` 对象列表\n",
    "        每个 `Send` 对象由图中节点的名称组成\n",
    "        以及发送到该节点的状态\n",
    "\n",
    "        这里是把所有生成的 subject 都发送给 `generate_joke`\n",
    "    \"\"\"\n",
    "    return [Send(\"generate_joke\", {\"subject\": s}) for s in state[\"subjects\"]]\n",
    "\n",
    "\n",
    "def best_joke(state: OverallState):\n",
    "    \"\"\"\n",
    "        从多个笑话中找出1个最好的\n",
    "    \"\"\"\n",
    "    jokes = \"\\n\\n\".join(state[\"jokes\"])\n",
    "    prompt = best_joke_prompt.format(topic=state[\"topic\"], jokes=jokes)\n",
    "\n",
    "    print(\"=\" * 80)\n",
    "    print(prompt)\n",
    "    print(\"=\" * 80)\n",
    "\n",
    "    response = model.with_structured_output(BestJoke).invoke(prompt)\n",
    "    return {\"best_selected_joke\": state[\"jokes\"][response.id]}\n",
    "\n",
    "\n",
    "graph = StateGraph(OverallState)\n",
    "graph.add_node(\"generate_topics\", generate_topics)\n",
    "graph.add_node(\"generate_joke\", generate_joke)\n",
    "graph.add_node(\"best_joke\", best_joke)\n",
    "graph.add_edge(START, \"generate_topics\")\n",
    "graph.add_conditional_edges(\"generate_topics\", continue_to_jokes, [\"generate_joke\"])\n",
    "graph.add_edge(\"generate_joke\", \"best_joke\")\n",
    "graph.add_edge(\"best_joke\", END)\n",
    "app = graph.compile()\n",
    "\n",
    "gen_mermaid(app, \"map_reduce.mmd\")"
   ]
  },
  {
   "cell_type": "code",
   "execution_count": null,
   "metadata": {
    "ExecuteTime": {
     "end_time": "2025-04-24T17:26:54.506846Z",
     "start_time": "2025-04-24T17:26:30.698442Z"
    }
   },
   "outputs": [],
   "source": [
    "for s in app.stream({\"topic\": \"animal\"}):\n",
    "    print(s)"
   ]
  }
 ],
 "metadata": {
  "kernelspec": {
   "display_name": "Python 3 (ipykernel)",
   "language": "python",
   "name": "python3"
  },
  "language_info": {
   "codemirror_mode": {
    "name": "ipython",
    "version": 3
   },
   "file_extension": ".py",
   "mimetype": "text/x-python",
   "name": "python",
   "nbconvert_exporter": "python",
   "pygments_lexer": "ipython3",
   "version": "3.11.12"
  }
 },
 "nbformat": 4,
 "nbformat_minor": 4
}
