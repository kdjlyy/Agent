{
 "cells": [
  {
   "cell_type": "markdown",
   "metadata": {},
   "source": [
    "使用函数式 API 完成以下功能：撰写一篇文章并中断以请求人工审核\n",
    "\n",
    "- 此工作流将撰写一篇关于“猫”这一主题的文章，然后暂停以获取人工审核。\n",
    "- 工作流可以无限期中断，直到提供审核结果为止。\n",
    "- 当工作流恢复时，它会从最开始执行，但由于 write_essay 任务的结果已经保存，因此会从检查点加载任务结果，而不是重新计算。"
   ]
  },
  {
   "cell_type": "code",
   "execution_count": 3,
   "metadata": {},
   "outputs": [
    {
     "name": "stdout",
     "output_type": "stream",
     "text": [
      "{'write_essay': 'An essay about topic: cat'}\n",
      "{'__interrupt__': (Interrupt(value={'essay': 'An essay about topic: cat', 'action': 'Please approve/reject the essay'}, resumable=True, ns=['workflow:b37b3818-ef7d-7ff5-3110-e85bbf4da50e']),)}\n"
     ]
    }
   ],
   "source": [
    "import time\n",
    "import uuid\n",
    "\n",
    "from langgraph.func import entrypoint, task\n",
    "from langgraph.types import interrupt\n",
    "from langgraph.checkpoint.memory import MemorySaver\n",
    "\n",
    "@task\n",
    "def write_essay(topic: str) -> str:\n",
    "    \"\"\"Write an essay about the given topic.\"\"\"\n",
    "    time.sleep(3) # This is a placeholder for a long-running task.\n",
    "    return f\"An essay about topic: {topic}\"\n",
    "\n",
    "@entrypoint(checkpointer=MemorySaver())\n",
    "def workflow(topic: str) -> dict:\n",
    "    \"\"\"A simple workflow that writes an essay and asks for a review.\"\"\"\n",
    "    # 要获取任务的结果，你可以同步等待（使用 result()），也可以异步等待（使用 await）\n",
    "    essay = write_essay(\"cat\").result()\n",
    "    is_approved = interrupt({\n",
    "        # Any json-serializable payload provided to interrupt as argument.\n",
    "        # It will be surfaced on the client side as an Interrupt when streaming data\n",
    "        # from the workflow.\n",
    "        \"essay\": essay, # The essay we want reviewed.\n",
    "        # We can add any additional information that we need.\n",
    "        # For example, introduce a key called \"action\" with some instructions.\n",
    "        \"action\": \"Please approve/reject the essay\",\n",
    "    })\n",
    "\n",
    "    return {\n",
    "        \"essay\": essay, # The essay that was generated\n",
    "        \"is_approved\": is_approved, # Response from HIL\n",
    "    }\n",
    "\n",
    "\n",
    "config = {\n",
    "    \"configurable\": {\n",
    "        \"thread_id\": str(uuid.uuid4())\n",
    "    }\n",
    "}\n",
    "\n",
    "for item in workflow.stream(\"cat\", config):\n",
    "    print(item)"
   ]
  },
  {
   "cell_type": "code",
   "execution_count": 4,
   "metadata": {},
   "outputs": [
    {
     "name": "stdout",
     "output_type": "stream",
     "text": [
      "{'workflow': {'essay': 'An essay about topic: cat', 'is_approved': True}}\n"
     ]
    }
   ],
   "source": [
    "from langgraph.types import Command\n",
    "\n",
    "# Get review from a user (e.g., via a UI)\n",
    "# In this case, we're using a bool, but this can be any json-serializable value.\n",
    "human_review = True\n",
    "\n",
    "for item in workflow.stream(Command(resume=human_review), config):\n",
    "    print(item)"
   ]
  }
 ],
 "metadata": {
  "language_info": {
   "name": "python"
  }
 },
 "nbformat": 4,
 "nbformat_minor": 2
}
