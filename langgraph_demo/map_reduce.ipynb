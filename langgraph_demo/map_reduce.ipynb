{
 "cells": [
  {
   "cell_type": "code",
   "execution_count": 79,
   "metadata": {
    "ExecuteTime": {
     "end_time": "2025-04-24T17:25:59.007662Z",
     "start_time": "2025-04-24T17:25:58.495328Z"
    }
   },
   "outputs": [],
   "source": [
    "import operator\n",
    "import os\n",
    "import sys\n",
    "import re\n",
    "current_dir = os.getcwd()\n",
    "parent_dir = os.path.abspath(os.path.join(current_dir, '..'))\n",
    "sys.path.append(parent_dir)\n",
    "from utils.env_util import *\n",
    "from langgraph_utils.common_util import gen_mermaid\n",
    "from typing_extensions import TypedDict\n",
    "from langgraph.graph import StateGraph, START, END\n",
    "from langchain_openai import ChatOpenAI\n",
    "from typing import Annotated\n",
    "from langgraph.types import Send\n",
    "from pydantic import BaseModel, Field"
   ]
  },
  {
   "cell_type": "code",
   "execution_count": 80,
   "metadata": {
    "ExecuteTime": {
     "end_time": "2025-04-24T17:36:12.254003Z",
     "start_time": "2025-04-24T17:36:12.199792Z"
    }
   },
   "outputs": [
    {
     "name": "stdout",
     "output_type": "stream",
     "text": [
      "🙈 OPENAI_API_KEY: sk-hybehtt*******************************lpkkvcvojw\n",
      "👀 DEFAULT_MODEL: Qwen/QwQ-32B\n",
      "👀 OPENAI_BASE_URL: https://api.siliconflow.cn/v1\n"
     ]
    }
   ],
   "source": [
    "# 定义 Prompt\n",
    "subjects_prompt = \"\"\"后面的对话都使用中文来回答，随机生成4个与 {topic} 相关的关键字，注意只要4个，不要多也不要少，不要重复，生成后你需要自己检查结果是否正确，直接生成结果不需要其他描述。\"\"\"\n",
    "joke_prompt = \"\"\"生成一条关于 {subject} 的笑话，使用中文，只返回一行文字，不要返回多行。最后你需要检查结果是否满足要求，如果有换行符\\\\n你需要去除换行符\"\"\"\n",
    "best_joke_prompt = \"\"\"下面是4行是4个关于 {topic} 的笑话，ID分别是0、1、2、3，选择其中一个并返回其ID，不要多余的分析或描述，最终结果只要返回一个单行的int类型数字，不要包含\\\\n等特殊字符。\n",
    "{jokes}\"\"\"\n",
    "\n",
    "class Subjects(BaseModel):\n",
    "    subjects: list[str]\n",
    "\n",
    "class Joke(BaseModel):\n",
    "    joke: str\n",
    "\n",
    "class BestJoke(BaseModel):\n",
    "    id: int = Field(description=\"序号，int类型，如：1\", ge=0)\n",
    "\n",
    "model = ChatOpenAI(\n",
    "    openai_api_key=get_openai_api_key(),\n",
    "    model_name=get_default_model(),\n",
    "    # model_name=\"THUDM/GLM-Z1-32B-0414\",\n",
    "    base_url=get_openai_base_url(),\n",
    "    temperature=0.0,\n",
    ")\n",
    "\n",
    "class OverallState(TypedDict):\n",
    "    topic: str\n",
    "    subjects: Annotated[list, operator.add]\n",
    "    jokes: Annotated[list, operator.add]\n",
    "    best_selected_joke: str\n",
    "\n",
    "\n",
    "# 笑话的 subject\n",
    "class JokeState(TypedDict):\n",
    "    subject: str\n",
    "\n",
    "# 通过一个 topic 生成多个 subject\n",
    "def generate_topics(state: OverallState):\n",
    "    prompt = subjects_prompt.format(topic=state[\"topic\"])\n",
    "    print(f'👨 {prompt}')\n",
    "    response = model.with_structured_output(Subjects).invoke(prompt)\n",
    "    print(f\"⚙️生成主题：{response.subjects}\")\n",
    "    return {\"subjects\": response.subjects}\n",
    "\n",
    "def continue_to_jokes(state: OverallState):\n",
    "    \"\"\"\n",
    "        返回一个 `Send` 对象列表\n",
    "        每个 `Send` 对象由图中节点的名称组成\n",
    "        以及发送到该节点的状态\n",
    "\n",
    "        这里是把所有生成的 subject 都发送给 `generate_joke` 生成对应主题的笑话\n",
    "    \"\"\"\n",
    "    return [Send(\"generate_joke\", {\"subject\": s}) for s in state[\"subjects\"]]\n",
    "\n",
    "# 生成一条笑话\n",
    "def generate_joke(joke: JokeState) -> OverallState:\n",
    "    subject = joke[\"subject\"]\n",
    "    prompt = joke_prompt.format(subject=subject)\n",
    "    response = model.with_structured_output(Joke).invoke(prompt)\n",
    "    print(f\"⚙️生成[{subject}]笑话：{response.joke}\")\n",
    "    return {\"jokes\": [response.joke]}\n",
    "\n",
    "def best_joke(state: OverallState) -> OverallState:\n",
    "    \"\"\"\n",
    "        从多个笑话中找出1个最好的\n",
    "    \"\"\"\n",
    "    jokes = \"\\n\".join(state[\"jokes\"])\n",
    "    prompt = best_joke_prompt.format(topic=state[\"topic\"], jokes=jokes)\n",
    "\n",
    "    print(\"=\" * 80)\n",
    "    print(f'👨 {prompt}')\n",
    "    print(\"=\" * 80)\n",
    "\n",
    "    # response = model.with_structured_output(BestJoke).invoke(prompt)\n",
    "    response = model.invoke(prompt)\n",
    "    print(f\"⚙️ 选择出了最好的笑话：{response}\")\n",
    "    idx = int(re.findall(r'\\d+', response.content)[0])\n",
    "    print(f\"⚙️ 笑话的ID是 {idx}\")\n",
    "    return {\"best_selected_joke\": state[\"jokes\"][idx]}\n",
    "\n",
    "\n",
    "graph = StateGraph(OverallState)\n",
    "graph.add_node(\"generate_topics\", generate_topics)\n",
    "graph.add_node(\"generate_joke\", generate_joke)\n",
    "graph.add_node(\"best_joke\", best_joke)\n",
    "graph.add_edge(START, \"generate_topics\")\n",
    "graph.add_conditional_edges(\"generate_topics\", continue_to_jokes, [\"generate_joke\"])\n",
    "graph.add_edge(\"generate_joke\", \"best_joke\")\n",
    "graph.add_edge(\"best_joke\", END)\n",
    "app = graph.compile()\n",
    "\n",
    "# gen_mermaid(app, \"map_reduce.mmd\")"
   ]
  },
  {
   "cell_type": "code",
   "execution_count": 81,
   "metadata": {
    "ExecuteTime": {
     "end_time": "2025-04-24T17:26:54.506846Z",
     "start_time": "2025-04-24T17:26:30.698442Z"
    }
   },
   "outputs": [
    {
     "name": "stdout",
     "output_type": "stream",
     "text": [
      "👨 后面的对话都使用中文来回答，随机生成4个与 animal 相关的关键字，注意只要4个，不要多也不要少，不要重复，生成后你需要自己检查结果是否正确，直接生成结果不需要其他描述。\n"
     ]
    },
    {
     "name": "stdout",
     "output_type": "stream",
     "text": [
      "⚙️生成主题：['企鹅', '蝴蝶', '猎豹', '海豚']\n",
      "{'generate_topics': {'subjects': ['企鹅', '蝴蝶', '猎豹', '海豚']}}\n",
      "⚙️生成[蝴蝶]笑话：为什么蝴蝶不喜欢玩扑克牌？因为它们怕被发现藏在翅膀下的‘千’！\n",
      "{'generate_joke': {'jokes': ['为什么蝴蝶不喜欢玩扑克牌？因为它们怕被发现藏在翅膀下的‘千’！']}}\n",
      "⚙️生成[企鹅]笑话：为什么企鹅不怕冷？因为它有暖暖的鱼可亲！\n",
      "{'generate_joke': {'jokes': ['为什么企鹅不怕冷？因为它有暖暖的鱼可亲！']}}\n",
      "⚙️生成[海豚]笑话：海豚为什么喜欢用银行卡？因为它们觉得用卡比用鱼卡更方便！\n",
      "{'generate_joke': {'jokes': ['海豚为什么喜欢用银行卡？因为它们觉得用卡比用鱼卡更方便！']}}\n",
      "⚙️生成[猎豹]笑话：猎豹去面试，考官问它跑得最快怎么还失业，它回答：'因为每次面试前我都在冲刺，结果总是被自己的速度甩在后面。'\n",
      "{'generate_joke': {'jokes': [\"猎豹去面试，考官问它跑得最快怎么还失业，它回答：'因为每次面试前我都在冲刺，结果总是被自己的速度甩在后面。'\"]}}\n",
      "================================================================================\n",
      "👨 下面是4行是4个关于 animal 的笑话，ID分别是0、1、2、3，选择其中一个并返回其ID，不要多余的分析或描述，最终结果只要返回一个单行的int类型数字，不要包含\\n等特殊字符。\n",
      "为什么企鹅不怕冷？因为它有暖暖的鱼可亲！\n",
      "为什么蝴蝶不喜欢玩扑克牌？因为它们怕被发现藏在翅膀下的‘千’！\n",
      "猎豹去面试，考官问它跑得最快怎么还失业，它回答：'因为每次面试前我都在冲刺，结果总是被自己的速度甩在后面。'\n",
      "海豚为什么喜欢用银行卡？因为它们觉得用卡比用鱼卡更方便！\n",
      "================================================================================\n",
      "⚙️ 选择出了最好的笑话：content='\\n\\n2' additional_kwargs={'refusal': None} response_metadata={'token_usage': {'completion_tokens': 1194, 'prompt_tokens': 157, 'total_tokens': 1351, 'completion_tokens_details': {'accepted_prediction_tokens': None, 'audio_tokens': None, 'reasoning_tokens': 1192, 'rejected_prediction_tokens': None}, 'prompt_tokens_details': None}, 'model_name': 'Qwen/QwQ-32B', 'system_fingerprint': '', 'id': '01966ac0845a35d8aaeef822d1dacb04', 'finish_reason': 'stop', 'logprobs': None} id='run-88d50a57-0c76-4018-a581-9a32be373bd6-0' usage_metadata={'input_tokens': 157, 'output_tokens': 1194, 'total_tokens': 1351, 'input_token_details': {}, 'output_token_details': {'reasoning': 1192}}\n",
      "⚙️ 笑话的ID是 2\n",
      "{'best_joke': {'best_selected_joke': \"猎豹去面试，考官问它跑得最快怎么还失业，它回答：'因为每次面试前我都在冲刺，结果总是被自己的速度甩在后面。'\"}}\n"
     ]
    }
   ],
   "source": [
    "for s in app.stream({\"topic\": \"animal\"}, stream_mode=\"updates\"):\n",
    "    print(s)"
   ]
  }
 ],
 "metadata": {
  "kernelspec": {
   "display_name": "Python 3 (ipykernel)",
   "language": "python",
   "name": "python3"
  },
  "language_info": {
   "codemirror_mode": {
    "name": "ipython",
    "version": 3
   },
   "file_extension": ".py",
   "mimetype": "text/x-python",
   "name": "python",
   "nbconvert_exporter": "python",
   "pygments_lexer": "ipython3",
   "version": "3.11.12"
  }
 },
 "nbformat": 4,
 "nbformat_minor": 4
}
