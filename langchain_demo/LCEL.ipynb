{
 "cells": [
  {
   "metadata": {},
   "cell_type": "markdown",
   "source": [
    "# ICEL（LangChain 表达式）\n",
    "\n",
    "LCEL 使得从基本组件构建复杂链变得容易，并且支持流式处理、并行处理和日志记录等开箱即用的功能。"
   ],
   "id": "12b322b85d7cfdac"
  },
  {
   "metadata": {
    "ExecuteTime": {
     "end_time": "2025-05-19T17:01:34.109309Z",
     "start_time": "2025-05-19T17:01:34.098822Z"
    }
   },
   "cell_type": "code",
   "source": [
    "import os\n",
    "from dotenv import load_dotenv\n",
    "load_dotenv()"
   ],
   "id": "d7abfd7137d75246",
   "outputs": [
    {
     "data": {
      "text/plain": [
       "True"
      ]
     },
     "execution_count": 1,
     "metadata": {},
     "output_type": "execute_result"
    }
   ],
   "execution_count": 1
  },
  {
   "metadata": {
    "ExecuteTime": {
     "end_time": "2025-05-19T17:01:35.122638Z",
     "start_time": "2025-05-19T17:01:35.120730Z"
    }
   },
   "cell_type": "code",
   "source": [
    "# 使用 LangSmith 追踪\n",
    "os.environ[\"LANGCHAIN_TRACING_V2\"] = \"true\"\n",
    "# os.environ[\"LANGSMITH_ENDPOINT\"] = os.getenv(\"LANGSMITH_ENDPOINT\")\n",
    "os.environ[\"LANGCHAIN_API_KEY\"] = os.getenv(\"LANGCHAIN_API_KEY\")\n",
    "os.environ[\"LANGCHAIN_PROJECT\"] = \"Agent\""
   ],
   "id": "de8b423fad91f5c4",
   "outputs": [],
   "execution_count": 2
  },
  {
   "metadata": {},
   "cell_type": "markdown",
   "source": [
    "## 基本示例：提示 + 模型 + 输出解析器\n",
    "\n",
    "`|` 符号类似于 unix 管道操作符，它将不同的组件链接在一起，将一个组件的输出作为下一个组件的输入。\n",
    "\n",
    "在这个链条中，用户输入被传递给提示模板，然后提示模板的输出被传递给模型，然后模型的输出被传递给输出解析器。"
   ],
   "id": "44e904c05806441b"
  },
  {
   "metadata": {
    "ExecuteTime": {
     "end_time": "2025-05-19T17:01:43.213709Z",
     "start_time": "2025-05-19T17:01:36.922227Z"
    }
   },
   "cell_type": "code",
   "source": [
    "from langchain_core.prompts import ChatPromptTemplate\n",
    "from langchain_openai import ChatOpenAI\n",
    "from langchain_core.output_parsers import StrOutputParser\n",
    "\n",
    "prompt = ChatPromptTemplate.from_template(\"用一句话介绍一下{topic}\")\n",
    "model = ChatOpenAI(\n",
    "    model_name='Qwen/Qwen3-32B',\n",
    "    openai_api_key=os.getenv(\"OPENAI_API_KEY\"),\n",
    "    base_url=os.getenv(\"OPENAI_BASE_URL\"),\n",
    ")\n",
    "output_parser = StrOutputParser()\n",
    "\n",
    "chain = prompt | model | output_parser\n",
    "\n",
    "chain.invoke({\"topic\": \"大语言模型\"})"
   ],
   "id": "62af3a2b6381a1b",
   "outputs": [
    {
     "data": {
      "text/plain": [
       "'\\n\\n大语言模型是基于大量文本数据训练出的先进AI，擅长多语言、跨场景的文本生成与理解，能完成从创意写作到逻辑推理的复杂任务，并通过持续学习适应多样化的用户需求。'"
      ]
     },
     "execution_count": 3,
     "metadata": {},
     "output_type": "execute_result"
    }
   ],
   "execution_count": 3
  },
  {
   "metadata": {},
   "cell_type": "code",
   "outputs": [],
   "execution_count": null,
   "source": "",
   "id": "efb6e98590f46875"
  }
 ],
 "metadata": {
  "kernelspec": {
   "display_name": "Python 3",
   "language": "python",
   "name": "python3"
  },
  "language_info": {
   "codemirror_mode": {
    "name": "ipython",
    "version": 2
   },
   "file_extension": ".py",
   "mimetype": "text/x-python",
   "name": "python",
   "nbconvert_exporter": "python",
   "pygments_lexer": "ipython2",
   "version": "2.7.6"
  }
 },
 "nbformat": 4,
 "nbformat_minor": 5
}
