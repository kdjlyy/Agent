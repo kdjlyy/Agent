{
 "cells": [
  {
   "metadata": {},
   "cell_type": "markdown",
   "source": "# Chat Translator（对话翻译助手）",
   "id": "403dc614501633d5"
  },
  {
   "metadata": {
    "ExecuteTime": {
     "end_time": "2025-05-19T16:28:00.511383Z",
     "start_time": "2025-05-19T16:28:00.502954Z"
    }
   },
   "cell_type": "code",
   "source": [
    "import os\n",
    "from dotenv import load_dotenv\n",
    "load_dotenv()"
   ],
   "id": "d980dc932923cdde",
   "outputs": [
    {
     "data": {
      "text/plain": [
       "True"
      ]
     },
     "execution_count": 1,
     "metadata": {},
     "output_type": "execute_result"
    }
   ],
   "execution_count": 1
  },
  {
   "metadata": {
    "ExecuteTime": {
     "end_time": "2025-05-19T16:42:04.831707Z",
     "start_time": "2025-05-19T16:41:52.880031Z"
    }
   },
   "cell_type": "code",
   "source": [
    "from langchain_openai import ChatOpenAI\n",
    "from langchain_core.messages import HumanMessage, SystemMessage\n",
    "\n",
    "model = ChatOpenAI(\n",
    "    model_name='Qwen/Qwen3-32B',\n",
    "    openai_api_key=os.getenv(\"OPENAI_API_KEY\"),\n",
    "    base_url=os.getenv(\"OPENAI_BASE_URL\"),\n",
    ")\n",
    "\n",
    "messages = [\n",
    "    SystemMessage(\"你是一个翻译助手，把以下中文翻译成英文\"),\n",
    "    HumanMessage(\"好好学习，天天向上\"),\n",
    "]\n",
    "\n",
    "model.invoke(messages)"
   ],
   "id": "c33658e479bc0342",
   "outputs": [
    {
     "data": {
      "text/plain": [
       "AIMessage(content='\\n\\nStudy hard and make progress every day.', additional_kwargs={'refusal': None}, response_metadata={'token_usage': {'completion_tokens': 465, 'prompt_tokens': 29, 'total_tokens': 494, 'completion_tokens_details': {'accepted_prediction_tokens': None, 'audio_tokens': None, 'reasoning_tokens': 456, 'rejected_prediction_tokens': None}, 'prompt_tokens_details': None}, 'model_name': 'Qwen/Qwen3-32B', 'system_fingerprint': '', 'id': '0196e96c54ee96e2b1f686c15a9d51bc', 'finish_reason': 'stop', 'logprobs': None}, id='run-365cf3af-e2be-43dd-af81-d90f9d62d344-0', usage_metadata={'input_tokens': 29, 'output_tokens': 465, 'total_tokens': 494, 'input_token_details': {}, 'output_token_details': {'reasoning': 456}})"
      ]
     },
     "execution_count": 19,
     "metadata": {},
     "output_type": "execute_result"
    }
   ],
   "execution_count": 19
  },
  {
   "metadata": {
    "ExecuteTime": {
     "end_time": "2025-05-19T16:46:43.242085Z",
     "start_time": "2025-05-19T16:46:38.130886Z"
    }
   },
   "cell_type": "code",
   "source": [
    "for token in model.stream(messages):\n",
    "    print(token.content, end='|')"
   ],
   "id": "668a2ef5b3df072f",
   "outputs": [
    {
     "name": "stdout",
     "output_type": "stream",
     "text": [
      "|||||||||||||||||||||||||||||||||||||||||||||||||||||||||||||||||||||||||||||||||||||||||||||||||||||||||||||||||||||||||||||||||||||||||||||||||||||||||||||||||||||||||||||||||||||||||||||||||||||||||||||||||||||||||||||||||||||||||||||||||||||||||||||||||||||||||||||||||||||||||||||||||||||||||||||||||||||||||||||||||||||||||||||||||\n",
      "\n",
      "|Study| hard| and| make| progress| every| day|.||"
     ]
    }
   ],
   "execution_count": 23
  },
  {
   "metadata": {
    "ExecuteTime": {
     "end_time": "2025-05-19T16:38:46.995465Z",
     "start_time": "2025-05-19T16:38:46.897250Z"
    }
   },
   "cell_type": "code",
   "source": [
    "from langchain_openai import ChatOpenAI\n",
    "from langchain_core.prompts import ChatPromptTemplate\n",
    "\n",
    "model = ChatOpenAI(\n",
    "    model_name='Qwen/Qwen3-32B',\n",
    "    openai_api_key=os.getenv(\"OPENAI_API_KEY\"),\n",
    "    base_url=os.getenv(\"OPENAI_BASE_URL\"),\n",
    ")\n",
    "\n",
    "system_template = \"你是一个翻译助手，把以下中文翻译成{language}\"\n",
    "prompt_template = ChatPromptTemplate.from_messages(\n",
    "    [(\"system\", system_template),\n",
    "     (\"user\", \"{text}\")]\n",
    ")\n",
    "\n",
    "prompt = prompt_template.invoke({\"language\": \"德语\", \"text\": \"你好\"})\n",
    "prompt"
   ],
   "id": "d353db45b61c99b6",
   "outputs": [
    {
     "data": {
      "text/plain": [
       "ChatPromptValue(messages=[SystemMessage(content='你是一个翻译助手，把以下中文翻译成德语', additional_kwargs={}, response_metadata={}), HumanMessage(content='你好', additional_kwargs={}, response_metadata={})])"
      ]
     },
     "execution_count": 15,
     "metadata": {},
     "output_type": "execute_result"
    }
   ],
   "execution_count": 15
  },
  {
   "metadata": {
    "ExecuteTime": {
     "end_time": "2025-05-19T16:39:21.575961Z",
     "start_time": "2025-05-19T16:39:21.572128Z"
    }
   },
   "cell_type": "code",
   "source": [
    "# 我们可以看到它返回一个 ChatPromptValue，其中包含两条消息。如果我们想直接访问消息，我们可以这样做\n",
    "prompt.to_messages()"
   ],
   "id": "602b2d1bbaa83a3b",
   "outputs": [
    {
     "data": {
      "text/plain": [
       "[SystemMessage(content='你是一个翻译助手，把以下中文翻译成德语', additional_kwargs={}, response_metadata={}),\n",
       " HumanMessage(content='你好', additional_kwargs={}, response_metadata={})]"
      ]
     },
     "execution_count": 17,
     "metadata": {},
     "output_type": "execute_result"
    }
   ],
   "execution_count": 17
  },
  {
   "metadata": {
    "ExecuteTime": {
     "end_time": "2025-05-19T16:39:40.646274Z",
     "start_time": "2025-05-19T16:39:34.805217Z"
    }
   },
   "cell_type": "code",
   "source": [
    "response = model.invoke(prompt)\n",
    "print(response.content)"
   ],
   "id": "55b9454677467a37",
   "outputs": [
    {
     "name": "stdout",
     "output_type": "stream",
     "text": [
      "\n",
      "\n",
      "Guten Tag\n"
     ]
    }
   ],
   "execution_count": 18
  }
 ],
 "metadata": {
  "kernelspec": {
   "display_name": "Python 3",
   "language": "python",
   "name": "python3"
  },
  "language_info": {
   "codemirror_mode": {
    "name": "ipython",
    "version": 2
   },
   "file_extension": ".py",
   "mimetype": "text/x-python",
   "name": "python",
   "nbconvert_exporter": "python",
   "pygments_lexer": "ipython2",
   "version": "2.7.6"
  }
 },
 "nbformat": 4,
 "nbformat_minor": 5
}
