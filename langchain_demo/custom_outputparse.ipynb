{
 "cells": [
  {
   "cell_type": "markdown",
   "metadata": {},
   "source": [
    "## 自定义 OutputParser\n",
    "\n",
    "1. 继承`BaseOutputParser`类\n",
    "2. 实现`parse`方法：将文本转换为目标格式\n",
    "3. （可选）实现`get_format_instructions`方法：生成提示词中的格式说明"
   ]
  },
  {
   "cell_type": "code",
   "execution_count": null,
   "metadata": {},
   "outputs": [],
   "source": [
    "import os\n",
    "from dotenv import load_dotenv\n",
    "load_dotenv()"
   ]
  },
  {
   "cell_type": "code",
   "execution_count": 1,
   "metadata": {},
   "outputs": [
    {
     "name": "stdout",
     "output_type": "stream",
     "text": [
      "[{'name': '张三', 'age': '30', 'city': '北京'}, {'name': '李四', 'age': '25', 'city': '上海'}]\n"
     ]
    }
   ],
   "source": [
    "\n",
    "from langchain.schema import BaseOutputParser\n",
    "from typing import List, Dict\n",
    "\n",
    "class CSVOutputParser(BaseOutputParser[List[Dict[str, str]]]):\n",
    "    # 定义列名\n",
    "    columns: List[str] = [\"name\", \"age\", \"city\"]\n",
    "    \n",
    "    def parse(self, text: str) -> List[Dict[str, str]]:\n",
    "        \"\"\"将CSV文本解析为字典列表\"\"\"\n",
    "        rows = []\n",
    "        for line in text.strip().split('\\n'):\n",
    "            values = line.strip().split(',')\n",
    "            if len(values) == len(self.columns):\n",
    "                rows.append(dict(zip(self.columns, values)))\n",
    "        return rows\n",
    "    \n",
    "    def get_format_instructions(self) -> str:\n",
    "        \"\"\"返回格式说明，用于提示词\"\"\"\n",
    "        return f\"\"\"\n",
    "        请以CSV格式返回数据，列名顺序为：{', '.join(self.columns)}。\n",
    "        例如：\n",
    "        张三,30,北京\n",
    "        李四,25,上海\n",
    "        \"\"\"\n",
    "\n",
    "# 调用\n",
    "parser = CSVOutputParser()\n",
    "\n",
    "# 模拟LLM输出\n",
    "llm_output = \"\"\"\n",
    "张三,30,北京\n",
    "李四,25,上海\n",
    "\"\"\"\n",
    "\n",
    "result = parser.parse(llm_output)\n",
    "print(result)\n",
    "# 输出：\n",
    "# [{'name': '张三', 'age': '30', 'city': '北京'},\n",
    "#  {'name': '李四', 'age': '25', 'city': '上海'}]"
   ]
  }
 ],
 "metadata": {
  "language_info": {
   "name": "python"
  }
 },
 "nbformat": 4,
 "nbformat_minor": 2
}
